{
  "nbformat": 4,
  "nbformat_minor": 0,
  "metadata": {
    "colab": {
      "name": "Ejercicio 7.ipynb",
      "provenance": []
    },
    "kernelspec": {
      "name": "python3",
      "display_name": "Python 3"
    }
  },
  "cells": [
    {
      "cell_type": "code",
      "metadata": {
        "id": "8NYBt1GCasTv",
        "outputId": "d7e6e6e5-c7ab-4cc3-f592-faf4591007d7",
        "colab": {
          "base_uri": "https://localhost:8080/"
        }
      },
      "source": [
        "def museo(e,o):\n",
        "  if (e>0):\n",
        "    if (e < 4):\n",
        "      a=0\n",
        "      print(\"Acceso Gratis\")\n",
        "    elif (e < 16):\n",
        "      a=50\n",
        "    else:\n",
        "      a=100\n",
        "\n",
        "    if (o == \"estudiante\" or o == \"ESTUDIANTE\" or o == \"Estudiante\"):\n",
        "      d = a-(a*.1)\n",
        "      print(\"Descuento aplicado a estudiante con credencial, total a pagar\",d,\"pesos\")\n",
        "\n",
        "    elif (o == \"docente\" or o == \"DOCENTE\" or o == \"Docente\"):\n",
        "      d2 = a-(a*.3)\n",
        "      print(\"Descuento aplicado a docente con credencial, total a pagar\",d2,\"Pesos\")\n",
        "\n",
        "    elif (o == \"INAPAM\" or o == \"inapam\" or o == \"Inapam\"):\n",
        "      d3 = a-(a*.5)\n",
        "      print(\"Descuento aplicado a adulto INAPAM, total a pagar\",d3,\"Pesos\")\n",
        "\n",
        "    elif (o == \"No\" or o == \"NO\" or o == \"no\"):\n",
        "      print(\"No aplica descuento, costo total:\",a,)\n",
        "  else:\n",
        "    print(\"Error\")\n",
        "    return \n",
        "\n",
        "e = int(input(\"Ingrese la edad por favor: \"))\n",
        "o = str(input(\"Ingrese la ocupacion: \"))\n",
        "museo(e,o)\n",
        "\n"
      ],
      "execution_count": 3,
      "outputs": [
        {
          "output_type": "stream",
          "text": [
            "Ingrese la edad por favor: 100\n",
            "Ingrese la ocupacion: no\n",
            "No aplica descuento, costo total: 100\n"
          ],
          "name": "stdout"
        }
      ]
    }
  ]
}